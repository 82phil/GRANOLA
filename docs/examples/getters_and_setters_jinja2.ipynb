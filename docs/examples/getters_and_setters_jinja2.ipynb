{
 "cells": [
  {
   "cell_type": "markdown",
   "metadata": {},
   "source": [
    "# Advanced Getters and Setters"
   ]
  },
  {
   "cell_type": "code",
   "execution_count": 45,
   "metadata": {},
   "outputs": [],
   "source": [
    "from granola.utils import check_min_package_version"
   ]
  },
  {
   "cell_type": "markdown",
   "metadata": {},
   "source": [
    "Convenience function for pre pyserial 3 and current pyserial compatibility"
   ]
  },
  {
   "cell_type": "code",
   "execution_count": 43,
   "metadata": {},
   "outputs": [],
   "source": [
    "def read_all(cereal):\n",
    "    \"\"\"convenience function since pyserial pre 3.0 doesn't have read_all\"\"\"\n",
    "    if check_min_package_version(\"pyserial\", \"3.0\"):\n",
    "        print(repr(cereal.read_all()))\n",
    "    else:\n",
    "        print(repr(cereal.read(cereal.in_waiting)))"
   ]
  },
  {
   "cell_type": "markdown",
   "metadata": {},
   "source": [
    "## 1. Getters and Setters Configuration Overview\n",
    "\n",
    "A Getters and Setters configuration set up by passing into `command_readers` a nested dictionary of Getters and Setters configuration options. This nested dictionaries key should either be the string \"GettersAndSetters\" or the class `GettersAndSetters`.\n",
    "\n",
    "They are configured with a number of attributes with their states being saved for you to set or retrieve from. There attributes must first be defined with `\"default_values\"`. This would look like this in your nested dictionary: \n"
   ]
  },
  {
   "cell_type": "markdown",
   "metadata": {},
   "source": [
    "`\"default_values\": {\"sn\": \"42\", \"temp\": \"20.0\"}`"
   ]
  },
  {
   "cell_type": "markdown",
   "metadata": {},
   "source": [
    "\n",
    "\n",
    "You can call the attributes whatever you want. They don't have to be related to the commands they are called in. It is just for nice bookkeeping.\n",
    "\n",
    "You can then define getters or setters to modify those attributes. Getters and setters are both defined with a `\"cmd\"` and `\"response\"` key. The getter key needs to be a static string, but the response can include [jinja2](https://jinja.palletsprojects.com) formatting, see [2. Adding Advanced Jinja2 Formatting](#jinja2_formatting)."
   ]
  },
  {
   "cell_type": "code",
   "execution_count": 46,
   "metadata": {},
   "outputs": [],
   "source": [
    "from granola import GettersAndSetters\n",
    "\n",
    "command_readers = {\n",
    "    \"GettersAndSetters\": {\n",
    "        \"default_values\": {\"sn\": \"42\"},\n",
    "        \"getters\": [{\"cmd\": \"get -sn\\r\", \"response\": \"{{ sn }}\\r>\"}],\n",
    "        \"setters\": [{\"cmd\": \"set -sn {{ sn }}\\r\", \"response\": \"OK\\r>\"}],\n",
    "    }\n",
    "}\n",
    "command_readers = {\n",
    "    GettersAndSetters: {\n",
    "        \"default_values\": {\"sn\": \"42\"},\n",
    "        \"getters\": [{\"cmd\": \"get -sn\\r\", \"response\": \"{{ sn }}\\r>\"}],\n",
    "        \"setters\": [{\"cmd\": \"set -sn {{ sn }}\\r\", \"response\": \"OK\\r>\"}],\n",
    "    }\n",
    "}"
   ]
  },
  {
   "cell_type": "markdown",
   "metadata": {},
   "source": [
    "<a id='jinja2_formatting'></a>\n",
    "## 2. Adding Advanced Jinja2 Formatting\n",
    "\n",
    "For full configurability with getters and setters, we use [jinja2](https://jinja.palletsprojects.com) for our formatting. This allows you to not only specify which attribute to return or set, but also to include equations in your responses (setter commands that use jinja2 formatting currently are just to specify what attribute to use and can't use anything like an equation. Equations are limited to getter and setter responses)"
   ]
  },
  {
   "cell_type": "code",
   "execution_count": 54,
   "metadata": {},
   "outputs": [],
   "source": [
    "from granola import Cereal\n",
    "\n",
    "command_readers = {\n",
    "    \"GettersAndSetters\": {\n",
    "        \"default_values\": {\"devtype\": \"Cereal\", \"sn\": \"42\", \"fw_ver\": \"0.0.0\", \"temp\": \"20.0\", \"volts\": \"2000.0\"},\n",
    "        \"getters\": [\n",
    "            {\"cmd\": \"get sn\\r\", \"response\": \"sn: {{ sn }}\\r>\"},\n",
    "            {\"cmd\": \"get ver\\r\", \"response\": \"{{ fw_ver }}\\r>\"},\n",
    "            {\"cmd\": \"show\\r\", \"response\": \"{{ devtype }} - {{ fw_ver }} - {{ sn }}\\r>\"},\n",
    "            {\"cmd\": \"get temp\\r\", \"response\": \"{{ temp }}\\r>\"},\n",
    "            # jinja attributes are substituted as strings, so to do math operations on them, we convert them first\n",
    "            {\"cmd\": \"get tempf\\r\", \"response\": \"{{ temp|float * (9/5) + 32 }}\\r>\"},\n",
    "            {\"cmd\": \"get volts\\r\", \"response\": \"{{ volts }}\"},\n",
    "            #\n",
    "            {\"cmd\": \"get volt_temp\\r\", \"response\": \"{{ (temp|float + volts|float) / 2 }}\"},\n",
    "        ],\n",
    "        \"setters\": [\n",
    "            {\"cmd\": \"set sn {{sn}}\\r\", \"response\": \"OK\\r>\"},\n",
    "            {\"cmd\": \"set both {{ sn }} {{ fw_ver }}\\r\", \"response\": \"OK\\r>\"},\n",
    "            {\"cmd\": \"set temp {{ temp }}\\r\", \"response\": \"temp: {{ temp }}\"},\n",
    "            {\"cmd\": \"set volts {{ volts }}\\r\", \"response\": \"Volt Calculation {{ volts|float / 2 }}\"},\n",
    "        ],\n",
    "    }\n",
    "}\n",
    "cereal = Cereal(command_readers)"
   ]
  },
  {
   "cell_type": "markdown",
   "metadata": {},
   "source": [
    "Below we can see an example of two queries that return the `temp` attribute. The first ust returns it directly, while the second converts the string to a float, multiplies it by 9/5 and adds 32, converting it from celsius to fahrenheit."
   ]
  },
  {
   "cell_type": "code",
   "execution_count": 52,
   "metadata": {},
   "outputs": [
    {
     "name": "stdout",
     "output_type": "stream",
     "text": [
      "b'temp: 20.0\\r>'\n",
      "b'68.0\\r>'\n"
     ]
    }
   ],
   "source": [
    "cereal.write(b\"get temp\\r\")\n",
    "read_all(cereal)\n",
    "cereal.write(b\"get tempf\\r\")\n",
    "read_all(cereal)"
   ]
  },
  {
   "cell_type": "markdown",
   "metadata": {},
   "source": [
    "If we set the temperature, we get back a response of the `temp: ` followed by the temperature we set. \n",
    "\n",
    "And if we issue the two commands we did above, they work with the new temperature"
   ]
  },
  {
   "cell_type": "code",
   "execution_count": 55,
   "metadata": {},
   "outputs": [
    {
     "name": "stdout",
     "output_type": "stream",
     "text": [
      "b'temp: 100'\n",
      "b'100\\r>'\n",
      "b'212.0\\r>'\n"
     ]
    }
   ],
   "source": [
    "cereal.write(b\"set temp 100\\r\")\n",
    "read_all(cereal)\n",
    "cereal.write(b\"get temp\\r\")\n",
    "read_all(cereal)\n",
    "cereal.write(b\"get tempf\\r\")\n",
    "read_all(cereal)"
   ]
  },
  {
   "cell_type": "markdown",
   "metadata": {},
   "source": [
    "Our getters and setters can also do calculations involving multiple attributes. `get volt_temp` does calculations on both `volts` and `temp`\n",
    "\n",
    "We also se more examples of using calculations with `set volts` which returns a `\"Volt Calculation\"` which is just half of what you put in."
   ]
  },
  {
   "cell_type": "code",
   "execution_count": 56,
   "metadata": {},
   "outputs": [
    {
     "name": "stdout",
     "output_type": "stream",
     "text": [
      "b'2000.0'\n",
      "b'1050.0'\n",
      "b'Volt Calculation 50.0'\n",
      "b'100'\n",
      "b'100.0'\n"
     ]
    }
   ],
   "source": [
    "cereal.write(b\"get volts\\r\")\n",
    "read_all(cereal)\n",
    "cereal.write(b\"get volt_temp\\r\")\n",
    "read_all(cereal)\n",
    "cereal.write(b\"set volts 100\\r\")\n",
    "read_all(cereal)\n",
    "cereal.write(b\"get volts\\r\")\n",
    "read_all(cereal)\n",
    "cereal.write(b\"get volt_temp\\r\")\n",
    "read_all(cereal)"
   ]
  },
  {
   "cell_type": "markdown",
   "metadata": {},
   "source": [
    "Commands can also get multiple attributes and set multiple attributes at once, as in the example below.\n",
    "\n",
    "Also notice above in the config that devtype only has a getter associated with it, and no setters. You are allowed to define read only properties."
   ]
  },
  {
   "cell_type": "code",
   "execution_count": 57,
   "metadata": {},
   "outputs": [
    {
     "name": "stdout",
     "output_type": "stream",
     "text": [
      "b'Cereal - 0.0.0 - 42\\r>'\n",
      "b'OK\\r>'\n",
      "b'Cereal - 1.2.3 - abc\\r>'\n"
     ]
    }
   ],
   "source": [
    "cereal.write(b\"show\\r\")\n",
    "read_all(cereal)\n",
    "cereal.write(b\"set both abc 1.2.3\\r\")\n",
    "read_all(cereal)\n",
    "cereal.write(b\"show\\r\")\n",
    "read_all(cereal)"
   ]
  }
 ],
 "metadata": {
  "interpreter": {
   "hash": "5565e1745fb70237b2948a0c9c6f2fd8438f6300b16a2c63269685c5165d3440"
  },
  "kernelspec": {
   "display_name": "Python 3.8.10 ('venv38': venv)",
   "language": "python",
   "name": "python3"
  },
  "language_info": {
   "codemirror_mode": {
    "name": "ipython",
    "version": 3
   },
   "file_extension": ".py",
   "mimetype": "text/x-python",
   "name": "python",
   "nbconvert_exporter": "python",
   "pygments_lexer": "ipython3",
   "version": "3.8.10"
  },
  "orig_nbformat": 4
 },
 "nbformat": 4,
 "nbformat_minor": 2
}
