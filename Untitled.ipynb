{
 "cells": [
  {
   "cell_type": "code",
   "execution_count": 8,
   "id": "2e7d5015-0294-4d08-bd99-18d97a406fd3",
   "metadata": {},
   "outputs": [],
   "source": [
    "from __future__ import annotations"
   ]
  },
  {
   "cell_type": "code",
   "execution_count": 3,
   "id": "e5983814-009b-4494-ada3-73f5abd90296",
   "metadata": {},
   "outputs": [],
   "source": [
    "letters = dict(\n",
    "    a=2, b=2, c=2,\n",
    "    d=3, e=3, f=3,\n",
    "    g=4, h=4, i=4,\n",
    "    j=5, k=5, l=5,\n",
    "    m=6, n=6, o=6,\n",
    "    p=7, q=7, r=7, s=7,\n",
    "    t=8, u=8, v=8,\n",
    "    w=9, x=9, y=9, z=9\n",
    ")"
   ]
  },
  {
   "cell_type": "code",
   "execution_count": 27,
   "id": "966f7912-5445-4331-9aac-f48a75f2b89b",
   "metadata": {},
   "outputs": [],
   "source": [
    "phone_number = \"3662277\"\n",
    "words = [\"foo\", \"bar\", \"baz\", \"foobar\", \"emo\", \"cap\", \"car\", \"cat\"]"
   ]
  },
  {
   "cell_type": "code",
   "execution_count": 36,
   "id": "28212039-93da-43a9-bed7-6e263833c489",
   "metadata": {},
   "outputs": [],
   "source": [
    "def words2phonenum(words: list[str]) -> list[str]:\n",
    "    new_words = {}\n",
    "    for word in words:\n",
    "        pnum = \"\".join(str(letters[letter]) for letter in word)\n",
    "        # new_words[pnum] = word\n",
    "        new_words.setdefault(pnum, []).append(word)\n",
    "    # group.append( value )\n",
    "    return new_words"
   ]
  },
  {
   "cell_type": "code",
   "execution_count": 37,
   "id": "cde35c08-93c7-49b9-8d81-6f607c4184fa",
   "metadata": {},
   "outputs": [],
   "source": [
    "new_words = words2phonenum(words)"
   ]
  },
  {
   "cell_type": "code",
   "execution_count": 38,
   "id": "7d476719-0c0c-4a3d-9544-3991245395e5",
   "metadata": {},
   "outputs": [
    {
     "data": {
      "text/plain": [
       "{'366': ['foo', 'emo'],\n",
       " '227': ['bar', 'cap', 'car'],\n",
       " '229': ['baz'],\n",
       " '366227': ['foobar'],\n",
       " '228': ['cat']}"
      ]
     },
     "execution_count": 38,
     "metadata": {},
     "output_type": "execute_result"
    }
   ],
   "source": [
    "new_words"
   ]
  },
  {
   "cell_type": "code",
   "execution_count": 39,
   "id": "e926a5d4-6628-423d-b139-577025c2044a",
   "metadata": {},
   "outputs": [
    {
     "name": "stdout",
     "output_type": "stream",
     "text": [
      "['foo', 'emo']\n",
      "['bar', 'cap', 'car']\n",
      "['foobar']\n"
     ]
    }
   ],
   "source": [
    "for pnum, word in new_words.items():\n",
    "    if pnum in phone_number:\n",
    "        print(word)"
   ]
  },
  {
   "cell_type": "code",
   "execution_count": null,
   "id": "4b4ab453-40a4-4706-a9db-dd3a6e242301",
   "metadata": {},
   "outputs": [],
   "source": []
  }
 ],
 "metadata": {
  "kernelspec": {
   "display_name": "Python 3 (ipykernel)",
   "language": "python",
   "name": "python3"
  },
  "language_info": {
   "codemirror_mode": {
    "name": "ipython",
    "version": 3
   },
   "file_extension": ".py",
   "mimetype": "text/x-python",
   "name": "python",
   "nbconvert_exporter": "python",
   "pygments_lexer": "ipython3",
   "version": "3.8.10"
  }
 },
 "nbformat": 4,
 "nbformat_minor": 5
}
