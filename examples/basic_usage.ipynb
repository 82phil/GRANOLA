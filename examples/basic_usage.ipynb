{
 "cells": [
  {
   "cell_type": "markdown",
   "metadata": {},
   "source": [
    "# Basic Overview of Mock Cereal and API\n",
    "\n",
    "This tutorial will go over the basics of initializing and using the GRANOLA mock Cereal class (also known as Breakfast Cereal)"
   ]
  },
  {
   "cell_type": "code",
   "execution_count": 5,
   "metadata": {},
   "outputs": [],
   "source": [
    "from granola.utils import check_min_package_version"
   ]
  },
  {
   "cell_type": "code",
   "execution_count": 3,
   "metadata": {},
   "outputs": [],
   "source": [
    "def read_all(cereal):\n",
    "    \"\"\"convenience function since pyserial pre 3.0 doesn't have read_all\"\"\"\n",
    "    if check_min_package_version(\"pyserial\", \"3.0\"):\n",
    "        print(repr(cereal.read_all()))\n",
    "    else:\n",
    "        print(repr(cereal.read(cereal.in_waiting)))"
   ]
  },
  {
   "cell_type": "markdown",
   "metadata": {},
   "source": [
    "## 1. Overview of Breakfast Cereal Configuration\n",
    "\n",
    "Mock Cereal takes a number Command Readers, Hooks (optional), and additional tweaking parameters."
   ]
  },
  {
   "cell_type": "markdown",
   "metadata": {},
   "source": [
    "### a) Command Readers\n",
    "\n",
    "[Command Readers](https://granola.readthedocs.io/en/latest/command_readers.html) are the backbone of mock Cereal. Each [Command Reader](https://granola.readthedocs.io/en/latest/command_readers.html) receives a serial command and then returns a response. Any given [Command Reader](https://granola.readthedocs.io/en/latest/command_readers.html) is free to process that command in any way that is so chooses. \n",
    "\n",
    "[Canned Queries](https://granola.readthedocs.io/en/latest/config/canned_queries.html) is a type of [Command Reader](https://granola.readthedocs.io/en/latest/command_readers.html) that takes a command and loops through a list of responses for that command. It can loop through those responses in order or randomly. [Canned Queries](https://granola.readthedocs.io/en/latest/config/canned_queries.html) also by default loop back to the beginning of their list of responses when they reach the end.\n",
    "\n",
    "[Getters and Setters](https://granola.readthedocs.io/en/latest/config/getters_and_setters.html) is a type of [Command Reader](https://granola.readthedocs.io/en/latest/command_readers.html) that manages the state of a number of attributes which you can access with getters and set with setters."
   ]
  },
  {
   "cell_type": "markdown",
   "metadata": {},
   "source": [
    "### b) Hooks\n",
    "\n",
    "Hooks allow the modification of the processing of all or a subset of serial commands. Some examples are:\n",
    "\n",
    "- `LoopCannedQueries` is a Hook that will loop [Canned Queries](https://granola.readthedocs.io/en/latest/config/canned_queries.html) responses when it has exhausted all    responses. This hook is enabled by default on all [Canned Queries](https://granola.readthedocs.io/en/latest/config/canned_queries.html). \n",
    "\n",
    "- `StickCannedQueries` is a Hook that will take specified [Canned Queries](https://granola.readthedocs.io/en/latest/config/canned_queries.html) commands, and once the command has exhausted all of its responses, all future queries of that command will only return the last response. A practical example of this might be a serial command of some measurement that is approaching a value, such as a temperature reading.\n",
    "\n",
    "- `ApproachHook` is a Hook that works with [Getters and Setters](https://granola.readthedocs.io/en/latest/config/getters_and_setters.html) commands, and allows you to set a new value for a command, but instead of the value being instantly set, it is set over time, allowing you slowly approach that value. This can be practical for a simulating a device that is controlling the temperature of some chamber, but when you set it, it takes a while to warm up."
   ]
  },
  {
   "cell_type": "markdown",
   "metadata": {},
   "source": [
    "### c) Other Parameters\n",
    "\n",
    "To see a full list of configuration parameters, see [Breakfast Cereal](https://granola.readthedocs.io/en/latest/bk_cereal.html)"
   ]
  },
  {
   "cell_type": "markdown",
   "metadata": {},
   "source": [
    "## 2. Initializing Breakfast Cereal"
   ]
  },
  {
   "cell_type": "code",
   "execution_count": 1,
   "metadata": {},
   "outputs": [],
   "source": [
    "from granola import Cereal\n",
    "\n",
    "command_readers = {\n",
    "    # We will first set up queries that will just execute as written, allowing multiple responses per command.\n",
    "    # By default when a particular command reaches the end of its responses, it will loop back to the beginning,\n",
    "    # but this behavior can be changed on individual queries.\n",
    "    \"CannedQueries\": {\n",
    "        \"data\": [\n",
    "            {\n",
    "                \"1\\r\": \"1\",  # a command that only has a single response `1` defined\n",
    "                \"2\\r\": {\"response\": \"2\"},  # equivalent to the above\n",
    "                \"3\\r\": {\"response\": [\"3a\", \"3b\"]},  # a command that has 2 responses defined, `3a` and `3b`\n",
    "                \"4\\r\": [\"4a\", \"4b\"],  # equivalent to the above\n",
    "            }\n",
    "        ],\n",
    "    },\n",
    "    # We will also define a getter and setter style query. This is a query that you can retrieve a value by\n",
    "    # calling the getter, but you can also set a new value by calling the setter.\n",
    "    \"GettersAndSetters\": {\n",
    "        \"default_values\": {\"sn\": \"42\"},  # We first initialize a default\n",
    "        \"getters\": [{\"cmd\": \"get sn\\r\", \"response\": \"{{ sn }}\\r>\"}],  # we define default\n",
    "        \"setters\": [{\"cmd\": \"set sn {{ sn }}\\r\", \"response\": \"OK\\r>\"}],  # and we define a setter\n",
    "    },\n",
    "}\n",
    "cereal = Cereal(command_readers)"
   ]
  },
  {
   "cell_type": "markdown",
   "metadata": {},
   "source": [
    "## 3. Using Breakfast Cereal"
   ]
  },
  {
   "cell_type": "markdown",
   "metadata": {},
   "source": [
    "Canned Queries will first find the command you entered, and the iterate through the responses defined for that command until they reach the end for that command. By default, they then loop back to the beginning of that sequence"
   ]
  },
  {
   "cell_type": "code",
   "execution_count": 6,
   "metadata": {},
   "outputs": [
    {
     "name": "stdout",
     "output_type": "stream",
     "text": [
      "b'3a'\n",
      "b'3b'\n",
      "b'3a'\n"
     ]
    }
   ],
   "source": [
    "cereal.write(b\"3\\r\")\n",
    "read_all(cereal)\n",
    "cereal.write(b\"3\\r\")\n",
    "read_all(cereal)\n",
    "cereal.write(b\"3\\r\")\n",
    "read_all(cereal)"
   ]
  },
  {
   "cell_type": "markdown",
   "metadata": {},
   "source": [
    "Getters And Setters use jinja2 formatting to specify the location of where the setter attribute is in the setter command, and where it is in the getter response."
   ]
  },
  {
   "cell_type": "code",
   "execution_count": 7,
   "metadata": {},
   "outputs": [
    {
     "name": "stdout",
     "output_type": "stream",
     "text": [
      "b'42\\r>'\n",
      "b'OK\\r>'\n",
      "b'something something\\r>'\n"
     ]
    }
   ],
   "source": [
    "cereal.write(b\"get sn\\r\")\n",
    "read_all(cereal)\n",
    "cereal.write(b\"set sn something something\\r\")\n",
    "read_all(cereal)\n",
    "cereal.write(b\"get sn\\r\")\n",
    "read_all(cereal)"
   ]
  },
  {
   "cell_type": "markdown",
   "metadata": {},
   "source": [
    "If we pass in an undefined command, then we get back an unsupported response."
   ]
  },
  {
   "cell_type": "code",
   "execution_count": 8,
   "metadata": {},
   "outputs": [
    {
     "name": "stdout",
     "output_type": "stream",
     "text": [
      "b'Unsupported\\r>'\n"
     ]
    }
   ],
   "source": [
    "cereal.write(b\"fake command\\r\")\n",
    "read_all(cereal)"
   ]
  },
  {
   "cell_type": "markdown",
   "metadata": {},
   "source": [
    "We can configure what our unsupported response is in our initial initialization"
   ]
  },
  {
   "cell_type": "code",
   "execution_count": 9,
   "metadata": {},
   "outputs": [],
   "source": [
    "cereal = Cereal(unsupported_response=\"ERROR!!!\")\n",
    "cereal.write(b\"fake command\\r\")\n",
    "read_all(cereal)"
   ]
  },
  {
   "cell_type": "markdown",
   "metadata": {},
   "source": [
    "Because in this case, we didn't define any Command Readers, every command will be unsupported"
   ]
  },
  {
   "cell_type": "code",
   "execution_count": 11,
   "metadata": {},
   "outputs": [
    {
     "name": "stdout",
     "output_type": "stream",
     "text": [
      "b'ERROR!!!'\n"
     ]
    }
   ],
   "source": [
    "cereal.write(b\"get sn\\r\")\n",
    "read_all(cereal)"
   ]
  }
 ],
 "metadata": {
  "interpreter": {
   "hash": "5565e1745fb70237b2948a0c9c6f2fd8438f6300b16a2c63269685c5165d3440"
  },
  "kernelspec": {
   "display_name": "Python 3.8.10 ('venv38': venv)",
   "language": "python",
   "name": "python3"
  },
  "language_info": {
   "codemirror_mode": {
    "name": "ipython",
    "version": 3
   },
   "file_extension": ".py",
   "mimetype": "text/x-python",
   "name": "python",
   "nbconvert_exporter": "python",
   "pygments_lexer": "ipython3",
   "version": "3.8.10"
  },
  "orig_nbformat": 4
 },
 "nbformat": 4,
 "nbformat_minor": 2
}
